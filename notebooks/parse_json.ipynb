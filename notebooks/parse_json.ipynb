{
 "cells": [
  {
   "attachments": {},
   "cell_type": "markdown",
   "metadata": {},
   "source": [
    "# Parsing JSON\n",
    "\n",
    "Python has a lot of options for parsing GeoJSON data.  In almost all cases, the encoded string must be loaded into memory in its entirity for the parser to work on it. In our case, this could be quite a large chunk of data.  \n",
    "\n",
    "The alternatie is to use `ijson`, which will parse as data is read and produce items from the JSON using Python iterators."
   ]
  },
  {
   "cell_type": "code",
   "execution_count": 1,
   "metadata": {},
   "outputs": [
    {
     "name": "stdout",
     "output_type": "stream",
     "text": [
      "......................................................................"
     ]
    }
   ],
   "source": [
    "import ijson\n",
    "\n",
    "try:\n",
    "    with open(\"/home/trantham/nldi-crawler-py/CrawlerData_10_dfw0go0s.geojson\", \"r\") as fh:\n",
    "        count=1\n",
    "        for  itm in ijson.items(fh, 'features.item'):\n",
    "            print(\".\", end=\"\")\n",
    "            count+=1\n",
    "            if count % 120 == 0:\n",
    "                print(\" \")\n",
    "except ijson.JSONError:\n",
    "    print(\"\\nDone.\\n\")"
   ]
  },
  {
   "cell_type": "code",
   "execution_count": 2,
   "metadata": {},
   "outputs": [
    {
     "data": {
      "text/plain": [
       "71"
      ]
     },
     "execution_count": 2,
     "metadata": {},
     "output_type": "execute_result"
    }
   ],
   "source": [
    "count"
   ]
  },
  {
   "cell_type": "code",
   "execution_count": 29,
   "metadata": {},
   "outputs": [],
   "source": [
    "import shapely\n",
    "import json\n",
    "\n",
    "itm_string = r'{ \"type\": \"Feature\", \"properties\": { \"Site Name\": \"Aching Shoulder Slope, New Mexico, USA\", \"SBID\": \"5fe395bbd34ea5387deb4950\", \"Location\": \" Mitten Rock, New Mexico USA\", \"Principal Investigator\": \"William Emmett\", \"Date of site establishment and/or field measurements\": \"08/1963; 08/1964; 08/1965; 08/1968\", \"Original date of submission to the Vigil Network\": null, \"Purposes\": \"Erosion\\r\\nChannel change\\r\\nMass-movement\\r\\nSedimentation\", \"Annual Precipitation (mm)\": 220.0, \"Elevation (m)\": 1815.0, \"Drainage Area (square km)\": null, \"Geology\": \"Igneous-rhyolite and Sedimentary-hornstone\", \"Hydrology\": null, \"Vegetation\": \"Sparse grasses\", \"Bench marks\": \"10\", \"Photography\": null, \"USGS 7.5 minute maps\": \"Mitten Rock, NM\", \"Hillslopes\": \"Erosion stakes: 2\\r\\nMass-movement pins: 1\\r\\nPainted rock lines: 1\\r\\nProfiles: 2\", \"Stream Channels\": \"Channel cross sections: 3\\r\\nBed profile: 1\\r\\nHeadcut retreat: 1\\r\\nOther: 8 n/w sections\", \"Vegetation Data\": null, \"Miscellaneous\": null, \"COMID\": null, \"REACHCODE\": null, \"REACH_meas\": null, \"offset\": null, \"SBURL\": \"https://www.sciencebase.gov/catalog/item/5fe395bbd34ea5387deb4950\" }, \"geometry\": { \"type\": \"Point\", \"coordinates\": [ -108.945277777777775, 36.605277777777779 ] } }'\n",
    "itm = json.loads(itm_string)\n",
    "\n"
   ]
  },
  {
   "attachments": {},
   "cell_type": "markdown",
   "metadata": {},
   "source": [
    "The 'parsed' GeoJSON item (stored in `itm`) is what we get from `ijson`.  Need to proceed with that data structure. "
   ]
  },
  {
   "cell_type": "code",
   "execution_count": 30,
   "metadata": {},
   "outputs": [],
   "source": [
    "from shapely import from_geojson\n",
    "shp = from_geojson(json.dumps(itm))"
   ]
  },
  {
   "cell_type": "code",
   "execution_count": 32,
   "metadata": {},
   "outputs": [
    {
     "data": {
      "text/plain": [
       "b'\\x01\\x01\\x00\\x00\\x00;L]n\\x7f<[\\xc0\\x8bF\\x02\\xbeyMB@'"
      ]
     },
     "execution_count": 32,
     "metadata": {},
     "output_type": "execute_result"
    }
   ],
   "source": [
    "shapely.to_wkb(shp)"
   ]
  },
  {
   "cell_type": "code",
   "execution_count": 33,
   "metadata": {},
   "outputs": [],
   "source": [
    "from geoalchemy2.shape import from_shape\n",
    "from geoalchemy2.elements import WKBElement"
   ]
  },
  {
   "cell_type": "code",
   "execution_count": 34,
   "metadata": {},
   "outputs": [],
   "source": [
    "e = WKBElement(shapely.to_wkb(shp))"
   ]
  },
  {
   "cell_type": "code",
   "execution_count": 35,
   "metadata": {},
   "outputs": [
    {
     "data": {
      "text/plain": [
       "<WKBElement at 0x7f72dd8a2e80; 01010000003b4c5d6e7f3c5bc08b4602be794d4240>"
      ]
     },
     "execution_count": 35,
     "metadata": {},
     "output_type": "execute_result"
    }
   ],
   "source": [
    "e"
   ]
  },
  {
   "cell_type": "code",
   "execution_count": null,
   "metadata": {},
   "outputs": [],
   "source": []
  }
 ],
 "metadata": {
  "kernelspec": {
   "display_name": "nldi-crawler-AikWVh81-py3.9",
   "language": "python",
   "name": "python3"
  },
  "language_info": {
   "codemirror_mode": {
    "name": "ipython",
    "version": 3
   },
   "file_extension": ".py",
   "mimetype": "text/x-python",
   "name": "python",
   "nbconvert_exporter": "python",
   "pygments_lexer": "ipython3",
   "version": "3.9.16 (main, Dec 14 2022, 13:52:45) \n[GCC 11.3.0]"
  },
  "orig_nbformat": 4,
  "vscode": {
   "interpreter": {
    "hash": "f23894094ed0d11a7fc7109fb6d8f7d7139f748cdac66a6988117f0bc49a024e"
   }
  }
 },
 "nbformat": 4,
 "nbformat_minor": 2
}
